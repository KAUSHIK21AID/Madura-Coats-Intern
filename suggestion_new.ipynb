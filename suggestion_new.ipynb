{
  "nbformat": 4,
  "nbformat_minor": 0,
  "metadata": {
    "colab": {
      "provenance": []
    },
    "kernelspec": {
      "name": "python3",
      "display_name": "Python 3"
    },
    "language_info": {
      "name": "python"
    }
  },
  "cells": [
    {
      "cell_type": "code",
      "execution_count": null,
      "metadata": {
        "id": "AnmL4Zo7oyse"
      },
      "outputs": [],
      "source": [
        "import pandas as pd\n",
        "import numpy as np"
      ]
    },
    {
      "cell_type": "code",
      "source": [
        "dc = pd.read_csv('/content/DATA COMPARE (4).csv') # actual data with actual values for changable attributes."
      ],
      "metadata": {
        "id": "WrBtKOjzo32J"
      },
      "execution_count": null,
      "outputs": []
    },
    {
      "cell_type": "code",
      "source": [
        "from sklearn.preprocessing import LabelEncoder\n",
        "label = LabelEncoder()\n",
        "col = ['Diabetes', 'Hypertension', 'Family History generalized', 'Previous Kidney Disease', 'Cardiovascular Disease', 'Urinary Tract Infection noise removed', 'Kidney Stone', 'Kidney Injury History', 'Pus Cells noise removed', 'Worker', 'Diet', 'Living Area','Urine Albumin']\n",
        "for i in col:\n",
        "  dc[i] = label.fit_transform(dc[i])"
      ],
      "metadata": {
        "id": "NhBCP649q91F"
      },
      "execution_count": null,
      "outputs": []
    },
    {
      "cell_type": "code",
      "source": [
        "hd = pd.read_csv('/content/HYPOTHETICAL DATA (4).csv') # data with hypogfr with hypothetical data"
      ],
      "metadata": {
        "id": "XVixkSiwo9w6"
      },
      "execution_count": null,
      "outputs": []
    },
    {
      "cell_type": "code",
      "source": [
        "changable = ['Haemoglobin Level','Tota Water Intake noise removed', 'Total Count', 'Random Blood Sugar', 'Urea', 'Systolic', 'Diastolic','BMI','Worker','Urine Albumin']\n"
      ],
      "metadata": {
        "id": "1YebnXz-pAcc"
      },
      "execution_count": null,
      "outputs": []
    },
    {
      "cell_type": "code",
      "source": [
        "patients = list(dc['Name'].unique())\n",
        "len(patients)"
      ],
      "metadata": {
        "colab": {
          "base_uri": "https://localhost:8080/"
        },
        "id": "6glB2wP8pMuC",
        "outputId": "d2dcb35c-a392-4eda-cd47-87d00280a9f8"
      },
      "execution_count": null,
      "outputs": [
        {
          "output_type": "execute_result",
          "data": {
            "text/plain": [
              "222"
            ]
          },
          "metadata": {},
          "execution_count": 6
        }
      ]
    },
    {
      "cell_type": "code",
      "source": [
        "pa = list(hd['Name'].unique())\n",
        "print(pa)"
      ],
      "metadata": {
        "colab": {
          "base_uri": "https://localhost:8080/"
        },
        "id": "7uZ6Cb1MpO0C",
        "outputId": "0ca590dd-23d0-445e-b081-74dd44555488"
      },
      "execution_count": null,
      "outputs": [
        {
          "output_type": "stream",
          "name": "stdout",
          "text": [
            "[266, 191, 222, 2, 88, 44, 87, 207, 36, 115, 35, 105, 22, 172, 21, 7, 240, 154, 130, 20, 202, 124, 109, 228, 163, 276, 27, 229, 220, 5, 269, 215, 116, 301, 275, 176, 226, 18, 74, 72, 278, 49, 135, 64, 117, 157, 24, 265, 239, 184, 14, 15, 185, 167, 259, 90, 111, 40, 42, 296, 280, 254, 256, 166, 218, 190, 26, 200, 114, 75, 141, 175, 30, 306, 56, 198, 91, 295, 179, 8, 268, 37, 232, 101, 196, 244, 289, 17, 99, 164, 129, 152, 66, 142, 100, 250, 67, 48, 292, 71, 53, 113, 54, 25, 16, 59, 10, 38, 23, 170, 62, 255, 267, 102, 146, 181, 3, 148, 216, 93, 107, 52, 28, 39, 162, 9, 156, 6, 106, 158, 63, 77, 208, 85, 83, 125, 227, 19, 118, 55, 96, 33, 192, 286, 128, 60, 214, 89, 29, 169, 143, 127, 238, 213, 41, 45, 110, 150, 86, 212, 104, 82, 94, 230, 224, 297, 203, 243, 245, 246, 84, 50, 58, 34, 57, 134, 140, 209, 12, 233, 139, 161, 97, 69, 136, 47, 225, 70, 123, 263, 235, 147, 304, 11, 205, 253, 264, 13, 298, 294, 80, 32, 78, 273, 187, 262, 138, 241, 145, 234, 153, 197, 195, 210, 126, 73, 308, 112, 119, 279, 281, 274]\n"
          ]
        }
      ]
    },
    {
      "cell_type": "code",
      "source": [
        "dc_df = dc[dc['Name']==56]\n",
        "hd_df = hd[hd['Name']==56]\n",
        "print(str(len(dc_df)) +\" is the total number of visits\")\n",
        "print(len(hd_df))"
      ],
      "metadata": {
        "colab": {
          "base_uri": "https://localhost:8080/"
        },
        "id": "efSgCNs0pQre",
        "outputId": "955f43eb-4ac3-4570-ab3a-bc3d13f6b58c"
      },
      "execution_count": null,
      "outputs": [
        {
          "output_type": "stream",
          "name": "stdout",
          "text": [
            "2 is the total number of visits\n",
            "2\n"
          ]
        }
      ]
    },
    {
      "cell_type": "code",
      "source": [
        "d1 = dc_df.iloc[1]\n",
        "d2 = hd_df.iloc[1]\n",
        "for k in changable:\n",
        "  if(k!='Urine Albumin' and k!='Worker'):\n",
        "    dif = d1[k] - d2[k]\n",
        "    print(str(d1[k])+ \" is the current value of \"+k)\n",
        "    print(str(d2[k])+ \" is the approximate value of \"+k+\" that needs to be achieved in order to increase GFR.\")\n",
        "    if(dif>0):\n",
        "      print(k+ \" should be decreased in order to get regressed.\")\n",
        "    else:\n",
        "      print(k+\" should be increased in order to get regressed.\")\n",
        "  else:\n",
        "    if(k=='Worker'):\n",
        "      if(d1[k]!=d2[k]):\n",
        "        print(k+\" should be changed from the existing.\")\n",
        "    else:\n",
        "      if(d1[k]>d2[k]):\n",
        "        print(k+\" should be increased.\")\n",
        "      else:\n",
        "        print(k+\" should be decreased.\")\n",
        "  print()\n",
        "print(str(d1['Glomerular Filration'])+\" is the Actual GFR\")\n",
        "print()\n",
        "print(str(d2['hypogfr'])+\" is the hypothetical GFR\")"
      ],
      "metadata": {
        "colab": {
          "base_uri": "https://localhost:8080/"
        },
        "id": "m42Ga_xDpTCr",
        "outputId": "df5dfb4e-f698-4d22-f7fe-cc8e63d4988e"
      },
      "execution_count": null,
      "outputs": [
        {
          "output_type": "stream",
          "name": "stdout",
          "text": [
            "12.0 is the current value of Haemoglobin Level\n",
            "14.98448042681617 is the approximate value of Haemoglobin Level that needs to be achieved in order to increase GFR.\n",
            "Haemoglobin Level should be increased in order to get regressed.\n",
            "\n",
            "1.5 is the current value of Tota Water Intake noise removed\n",
            "1.580503816291336 is the approximate value of Tota Water Intake noise removed that needs to be achieved in order to increase GFR.\n",
            "Tota Water Intake noise removed should be increased in order to get regressed.\n",
            "\n",
            "9400 is the current value of Total Count\n",
            "5900 is the approximate value of Total Count that needs to be achieved in order to increase GFR.\n",
            "Total Count should be decreased in order to get regressed.\n",
            "\n",
            "123 is the current value of Random Blood Sugar\n",
            "91 is the approximate value of Random Blood Sugar that needs to be achieved in order to increase GFR.\n",
            "Random Blood Sugar should be decreased in order to get regressed.\n",
            "\n",
            "27 is the current value of Urea\n",
            "18 is the approximate value of Urea that needs to be achieved in order to increase GFR.\n",
            "Urea should be decreased in order to get regressed.\n",
            "\n",
            "160 is the current value of Systolic\n",
            "180 is the approximate value of Systolic that needs to be achieved in order to increase GFR.\n",
            "Systolic should be increased in order to get regressed.\n",
            "\n",
            "60 is the current value of Diastolic\n",
            "100 is the approximate value of Diastolic that needs to be achieved in order to increase GFR.\n",
            "Diastolic should be increased in order to get regressed.\n",
            "\n",
            "24.67 is the current value of BMI\n",
            "48.369495844574416 is the approximate value of BMI that needs to be achieved in order to increase GFR.\n",
            "BMI should be increased in order to get regressed.\n",
            "\n",
            "Worker should be changed from the existing.\n",
            "\n",
            "Urine Albumin should be increased.\n",
            "\n",
            "46 is the Actual GFR\n",
            "\n",
            "78.26625481923593 is the hypothetical GFR\n"
          ]
        }
      ]
    },
    {
      "cell_type": "code",
      "source": [],
      "metadata": {
        "id": "xm_v7qGDpW6f"
      },
      "execution_count": null,
      "outputs": []
    }
  ]
}